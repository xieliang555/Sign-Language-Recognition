{
 "cells": [
  {
   "cell_type": "markdown",
   "metadata": {},
   "source": [
    "## sign-language-recognition"
   ]
  },
  {
   "cell_type": "markdown",
   "metadata": {},
   "source": [
    "### end2end"
   ]
  },
  {
   "cell_type": "markdown",
   "metadata": {},
   "source": [
    "- Fine_grained_CNN_RNN2\n",
    "- Fine_grained_CNN_RNN3\n",
    "- Fine_grained_CNN_RNN4\n",
    "- Fine_grained_CNN_RNN6"
   ]
  },
  {
   "cell_type": "markdown",
   "metadata": {},
   "source": [
    "### iterative"
   ]
  },
  {
   "cell_type": "markdown",
   "metadata": {},
   "source": [
    "- full frame\n",
    "    - CNN_RNN_CTC: original\n",
    "    - CNN_RNN_CTC1: interval: 1, lr schedule wer: 0.42\n",
    "    - CNN_RNN_CTC2: interval: 4, lr schedule wer: 0.41 (0.405)\n",
    "    - CNN_RNN_CTC3: interval: 4, temporal augement, lr schedule, wer: 0.42(0.415)\n",
    "\n",
    "\n",
    "- full frame + tracked right hand\n",
    "    - CNN_RNN_CTC_Combined: interval: 4 lr schedule wer:0.41\n",
    "    - CNN_RNN_CTC_Combined1: interval: 2, lr schedule wer:0.45\n",
    "\n",
    "\n",
    "- fine_grained_cnn\n",
    "    - anchor size: 24,48,96\n",
    "- fine_grained_cnn1: 仅使用raw_loss\n",
    "- fine_grained_cnn2: 增加raw_loss, partcls_loss, rank_loss可视化\n",
    "- fine_grained_cnn4: rank_loss 乘1.5倍权重\n",
    "- fine_grained_cnn5: anchor size 36, 72, 144"
   ]
  },
  {
   "cell_type": "code",
   "execution_count": null,
   "metadata": {},
   "outputs": [],
   "source": []
  }
 ],
 "metadata": {
  "kernelspec": {
   "display_name": "Python [conda env:sign]",
   "language": "python",
   "name": "conda-env-sign-py"
  },
  "language_info": {
   "codemirror_mode": {
    "name": "ipython",
    "version": 3
   },
   "file_extension": ".py",
   "mimetype": "text/x-python",
   "name": "python",
   "nbconvert_exporter": "python",
   "pygments_lexer": "ipython3",
   "version": "3.6.7"
  }
 },
 "nbformat": 4,
 "nbformat_minor": 2
}
