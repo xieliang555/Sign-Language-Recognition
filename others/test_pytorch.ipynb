{
 "cells": [
  {
   "cell_type": "code",
   "execution_count": 1,
   "metadata": {},
   "outputs": [],
   "source": [
    "import torch\n",
    "import torch.nn as nn\n",
    "from torchsummaryX import summary\n",
    "import torch.optim as optim\n",
    "from torch.utils.tensorboard import SummaryWriter\n",
    "\n",
    "import matplotlib.pyplot as plt"
   ]
  },
  {
   "cell_type": "code",
   "execution_count": 2,
   "metadata": {},
   "outputs": [],
   "source": [
    "# img_path = '/home/xieliang/Data/NTS-Net/CUB_200_2011/images/001.Black_footed_Albatross/Black_Footed_Albatross_0002_55.jpg'\n",
    "# img = plt.imread(img_path)\n",
    "# plt.imshow(img)\n",
    "# plt.show()"
   ]
  },
  {
   "cell_type": "code",
   "execution_count": 3,
   "metadata": {},
   "outputs": [],
   "source": [
    "def init_params(net):\n",
    "    for name, params in net.named_parameters():\n",
    "        if 'weight' in name:\n",
    "            nn.init.uniform_(params.data)\n",
    "        if 'bias' in name:\n",
    "            nn.init.constant_(params.data, 0)\n",
    "            \n",
    "\n",
    "class Net(nn.Module):\n",
    "    def __init__(self):\n",
    "        super(Net, self).__init__()\n",
    "        self.conv1 = nn.Conv2d(3,32,3,1,0)\n",
    "        self.pool = nn.AdaptiveAvgPool2d((7,7))\n",
    "        self.flatten = nn.Flatten()\n",
    "        self.fc = nn.Linear(32*7*7,10)\n",
    "    \n",
    "    def forward(self,x):\n",
    "        x = self.conv1(x)\n",
    "        x = self.pool(x)\n",
    "        x = self.flatten(x)\n",
    "        x = self.fc(x)\n",
    "        return x"
   ]
  },
  {
   "cell_type": "code",
   "execution_count": 4,
   "metadata": {},
   "outputs": [],
   "source": [
    "net = Net()\n",
    "net.apply(init_params)\n",
    "optimizer = optim.Adam(net.fc.parameters(), lr=1e-4)\n",
    "criterion = nn.CrossEntropyLoss()\n",
    "lr_scheduler = torch.optim.lr_scheduler.MultiStepLR(optimizer, [20, 40])\n",
    "writer = SummaryWriter('/home/xieliang/Data/sign-language-recognition/log/test_pytorch')\n",
    "\n",
    "# for name, params in net.named_parameters():\n",
    "#     if 'fc' in name:\n",
    "#         params.requires_grad=False\n",
    "#     print(name)\n",
    "#     print(params)\n",
    "    \n",
    "# for name, param in net.named_parameters():\n",
    "#     if 'conv1' in name:\n",
    "#         param.requires_grad = False\n",
    "#     print(name)\n",
    "#     print(param)\n",
    "# print(net)\n",
    "# summary(net, torch.zeros(1,3,28,28))"
   ]
  },
  {
   "cell_type": "code",
   "execution_count": 5,
   "metadata": {},
   "outputs": [],
   "source": [
    "def train(net, optimizer, criterion):\n",
    "        \n",
    "    for i in range(900,1000):\n",
    "        net.train()\n",
    "\n",
    "        optimizer.zero_grad()\n",
    "        inputs = torch.zeros(2,3,28,28)\n",
    "        outs = net(inputs)\n",
    "        loss = criterion(outs, torch.tensor([0,1]))\n",
    "        \n",
    "        for name, params in net.named_parameters():\n",
    "            if 'conv1.weight' in name:\n",
    "                writer.add_histogram('conv1_weights', params, i)\n",
    "            if 'conv1.bias' in name:\n",
    "                writer.add_histogram('conv1_bias', params, i)\n",
    "            if 'fc.weight' in name:\n",
    "                writer.add_histogram('fc_weitghs', params, i)\n",
    "            if 'fc.bias' in name:\n",
    "                writer.add_histogram('fc_bias', params, i)\n",
    "\n",
    "        loss.backward()\n",
    "        optimizer.step()"
   ]
  },
  {
   "cell_type": "code",
   "execution_count": 9,
   "metadata": {},
   "outputs": [
    {
     "name": "stdout",
     "output_type": "stream",
     "text": [
      "[0.0001]\n"
     ]
    }
   ],
   "source": [
    "print(lr_scheduler.get_lr())"
   ]
  },
  {
   "cell_type": "code",
   "execution_count": 4,
   "metadata": {},
   "outputs": [
    {
     "name": "stdout",
     "output_type": "stream",
     "text": [
      "[3, 5, 10, 12, 17]\n"
     ]
    }
   ],
   "source": [
    "import numpy as np\n",
    "a = [0,1,2,3,4,5,6,7,8,9,10,11,12,13,14,15,16,17,18,19]\n",
    "b = [np.random.randint(i,i+4) for i in range(0,20,4)]\n",
    "print(b)"
   ]
  },
  {
   "cell_type": "code",
   "execution_count": null,
   "metadata": {},
   "outputs": [],
   "source": []
  }
 ],
 "metadata": {
  "kernelspec": {
   "display_name": "Python [conda env:sign]",
   "language": "python",
   "name": "conda-env-sign-py"
  },
  "language_info": {
   "codemirror_mode": {
    "name": "ipython",
    "version": 3
   },
   "file_extension": ".py",
   "mimetype": "text/x-python",
   "name": "python",
   "nbconvert_exporter": "python",
   "pygments_lexer": "ipython3",
   "version": "3.6.7"
  }
 },
 "nbformat": 4,
 "nbformat_minor": 2
}
